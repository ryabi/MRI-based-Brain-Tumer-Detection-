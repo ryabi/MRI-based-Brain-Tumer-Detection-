{
 "cells": [
  {
   "cell_type": "code",
   "execution_count": 1,
   "metadata": {},
   "outputs": [],
   "source": [
    "import tensorflow as tf\n",
    "import numpy as np\n",
    "import pandas as pd\n",
    "import os\n",
    "import csv\n",
    "import cv2\n",
    "from tensorflow.keras.applications.vgg16 import VGG16\n",
    "from tensorflow.keras import layers,models\n",
    "import keras\n",
    "import timeit\n",
    "from datetime import datetime"
   ]
  },
  {
   "cell_type": "code",
   "execution_count": 2,
   "metadata": {},
   "outputs": [],
   "source": [
    "gpus=tf.config.experimental.list_physical_devices('GPU')\n",
    "for gpu in gpus:\n",
    "    tf.config.experimental.set_memory_growth(gpu,True)"
   ]
  },
  {
   "cell_type": "code",
   "execution_count": 3,
   "metadata": {},
   "outputs": [],
   "source": [
    "def preProcessing(image_path):\n",
    "    image = tf.io.read_file(image_path)\n",
    "    image = tf.image.decode_jpeg(image, channels=3)\n",
    "    image = tf.image.resize(image, size = (224,224))\n",
    "    image = tf.cast(image,'float32')/255.0\n",
    "    return image\n",
    "\n",
    "def encoding(w):\n",
    "    return w\n",
    "\n",
    "    "
   ]
  },
  {
   "cell_type": "code",
   "execution_count": 4,
   "metadata": {},
   "outputs": [
    {
     "name": "stdout",
     "output_type": "stream",
     "text": [
      "Model: \"sequential\"\n",
      "_________________________________________________________________\n",
      " Layer (type)                Output Shape              Param #   \n",
      "=================================================================\n",
      " vgg16 (Functional)          (None, 7, 7, 512)         14714688  \n",
      "                                                                 \n",
      " flatten (Flatten)           (None, 25088)             0         \n",
      "                                                                 \n",
      " dense (Dense)               (None, 256)               6422784   \n",
      "                                                                 \n",
      " dense_1 (Dense)             (None, 256)               65792     \n",
      "                                                                 \n",
      " dense_2 (Dense)             (None, 4)                 1028      \n",
      "                                                                 \n",
      "=================================================================\n",
      "Total params: 21,204,292\n",
      "Trainable params: 13,569,028\n",
      "Non-trainable params: 7,635,264\n",
      "_________________________________________________________________\n"
     ]
    }
   ],
   "source": [
    "testing_model=tf.keras.models.load_model('Brain_Tumer_model_256.h5')\n",
    "testing_model.summary()"
   ]
  },
  {
   "cell_type": "code",
   "execution_count": null,
   "metadata": {},
   "outputs": [],
   "source": []
  },
  {
   "cell_type": "code",
   "execution_count": 8,
   "metadata": {},
   "outputs": [
    {
     "data": {
      "text/plain": [
       "TensorShape([224, 224, 3])"
      ]
     },
     "execution_count": 8,
     "metadata": {},
     "output_type": "execute_result"
    }
   ],
   "source": [
    "# img=preProcessing('E:/TensorFlow/archive/Testing/glioma/te-gl_0012.jpg')\n",
    "img=preProcessing('archive/image_pitutary.jpg')\n",
    "# img1=cv2.imread(\"archive/Testing/meningioma/te-me_0014.jpg\")\n",
    "# img1=cv2.resize(img1,(224,224),interpolation = cv2.INTER_AREA)\n",
    "\n",
    "\n",
    "\n",
    "\n",
    "# img1=np.array(img1).astype('float32')/255.0\n",
    "img.shape\n"
   ]
  },
  {
   "cell_type": "code",
   "execution_count": 9,
   "metadata": {},
   "outputs": [
    {
     "name": "stdout",
     "output_type": "stream",
     "text": [
      "1/1 [==============================] - 0s 33ms/step\n",
      "[[5.3036342e-08 9.3966592e-05 5.3111283e-04 9.9937493e-01]]\n",
      "3\n"
     ]
    },
    {
     "data": {
      "text/plain": [
       "'Pituitary Tumor'"
      ]
     },
     "execution_count": 9,
     "metadata": {},
     "output_type": "execute_result"
    }
   ],
   "source": [
    "category = ['Glioma Tumor', 'Meningioma Tumor', 'No Tumor', 'Pituitary Tumor']\n",
    "predictions=testing_model.predict(np.array([img]))\n",
    "print(predictions)\n",
    "# predictions=tf.where(predictions<0.5,0,1).numpy()\n",
    "\n",
    "predictions = predictions.argmax()\n",
    "print(predictions)\n",
    "result = category[int(predictions)]\n",
    "result"
   ]
  },
  {
   "cell_type": "code",
   "execution_count": null,
   "metadata": {},
   "outputs": [],
   "source": [
    "images,labels=test_ds.as_numpy_iterator().next()\n",
    "\n",
    "predictions=testing_model.predict_on_batch(images)\n",
    "predictions=tf.where(predictions<0.5,0,1)\n",
    "predictions"
   ]
  },
  {
   "cell_type": "code",
   "execution_count": null,
   "metadata": {},
   "outputs": [],
   "source": [
    "import matplotlib.pyplot as plt\n",
    "for i in range(8):\n",
    "  plt.subplot(2,4,i+1)\n",
    "  plt.imshow(images[i].astype('uint8'))\n",
    "  true_label=labels[i]\n",
    "  \n",
    "  predicted_label=predictions[i]\n",
    "  plt.title(f'prediction:{predicted_label}\\n true:{true_label}')"
   ]
  }
 ],
 "metadata": {
  "kernelspec": {
   "display_name": "minor",
   "language": "python",
   "name": "python3"
  },
  "language_info": {
   "codemirror_mode": {
    "name": "ipython",
    "version": 3
   },
   "file_extension": ".py",
   "mimetype": "text/x-python",
   "name": "python",
   "nbconvert_exporter": "python",
   "pygments_lexer": "ipython3",
   "version": "3.9.18"
  }
 },
 "nbformat": 4,
 "nbformat_minor": 2
}
